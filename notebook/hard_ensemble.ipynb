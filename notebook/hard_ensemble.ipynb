{
 "cells": [
  {
   "cell_type": "code",
   "execution_count": 84,
   "metadata": {},
   "outputs": [],
   "source": [
    "import pandas as pd"
   ]
  },
  {
   "cell_type": "code",
   "execution_count": 85,
   "metadata": {},
   "outputs": [],
   "source": [
    "df_result1 = pd.read_csv(\"/opt/ml/backup/prediction/best.csv\")\n",
    "df_result2 = pd.read_csv(\"/opt/ml/backup/prediction/second.csv\")\n",
    "df_result3 = pd.read_csv(\"/opt/ml/backup/prediction/third.csv\")"
   ]
  },
  {
   "cell_type": "code",
   "execution_count": 4,
   "metadata": {},
   "outputs": [],
   "source": [
    "df_result1.iloc[0]['pred']"
   ]
  },
  {
   "cell_type": "code",
   "execution_count": 1,
   "metadata": {},
   "outputs": [],
   "source": [
    "df_result1"
   ]
  },
  {
   "cell_type": "code",
   "execution_count": 92,
   "metadata": {},
   "outputs": [],
   "source": [
    "new_pred_list = []\n",
    "\n",
    "for i in range(len(df_result1)):\n",
    "    \n",
    "    max_pred = 0\n",
    "    max_count = 0\n",
    "    \n",
    "    best1_pred = df_result1.iloc[i]['pred']\n",
    "    best2_pred = df_result2.iloc[i]['pred']\n",
    "    best3_pred = df_result3.iloc[i]['pred']\n",
    "\n",
    "    temp = [best1_pred,best2_pred,best3_pred]\n",
    "    for i in range(42):\n",
    "        count = temp.count(i)\n",
    "        if count > max_count:\n",
    "            max_pred = i\n",
    "            max_count = count\n",
    "    \n",
    "    insert_pred = -1\n",
    "    if max_count == 1:\n",
    "        insert_pred = best1_pred\n",
    "    else:\n",
    "        insert_pred = max_pred\n",
    "    \n",
    "    new_pred_list.append(insert_pred)\n"
   ]
  },
  {
   "cell_type": "code",
   "execution_count": 2,
   "metadata": {},
   "outputs": [],
   "source": [
    "print(len(new_pred_list))"
   ]
  },
  {
   "cell_type": "code",
   "execution_count": 94,
   "metadata": {},
   "outputs": [],
   "source": [
    "output = pd.DataFrame(new_pred_list, columns=['pred'])"
   ]
  },
  {
   "cell_type": "code",
   "execution_count": 3,
   "metadata": {},
   "outputs": [],
   "source": [
    "output"
   ]
  },
  {
   "cell_type": "code",
   "execution_count": 37,
   "metadata": {},
   "outputs": [],
   "source": [
    "output.to_csv('/opt/ml/backup/prediction/submission.csv', index=False)"
   ]
  }
 ],
 "metadata": {
  "kernelspec": {
   "display_name": "Python 3",
   "language": "python",
   "name": "python3"
  },
  "language_info": {
   "codemirror_mode": {
    "name": "ipython",
    "version": 3
   },
   "file_extension": ".py",
   "mimetype": "text/x-python",
   "name": "python",
   "nbconvert_exporter": "python",
   "pygments_lexer": "ipython3",
   "version": "3.8.3"
  }
 },
 "nbformat": 4,
 "nbformat_minor": 5
}
