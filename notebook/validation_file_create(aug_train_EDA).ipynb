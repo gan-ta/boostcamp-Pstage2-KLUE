{
 "cells": [
  {
   "cell_type": "code",
   "execution_count": 1,
   "metadata": {},
   "outputs": [],
   "source": [
    "# -*- coding: utf-8 -*-\n",
    "import pickle\n",
    "import pandas as pd\n",
    "import numpy as np\n",
    "\n",
    "import torch\n",
    "\n",
    "from sklearn.model_selection import StratifiedKFold\n",
    "\n",
    "from collections import defaultdict\n",
    "import re"
   ]
  },
  {
   "cell_type": "code",
   "execution_count": 2,
   "metadata": {},
   "outputs": [],
   "source": [
    "with open(\"/opt/ml/input/data/label_type.pkl\", 'rb') as f:\n",
    "    label_type = pickle.load(f) "
   ]
  },
  {
   "cell_type": "code",
   "execution_count": 1,
   "metadata": {},
   "outputs": [],
   "source": [
    "label_type"
   ]
  },
  {
   "cell_type": "markdown",
   "metadata": {},
   "source": [
    "# Train data 분포도 분석"
   ]
  },
  {
   "cell_type": "code",
   "execution_count": 4,
   "metadata": {},
   "outputs": [],
   "source": [
    "class RE_Dataset(torch.utils.data.Dataset):\n",
    "    def __init__(self, tokenized_dataset, labels):\n",
    "        self.tokenized_dataset = tokenized_dataset\n",
    "        self.labels = labels\n",
    "        \n",
    "    def __getitem__(self, idx):\n",
    "        item = {key: torch.tensor(val[idx]) for key, val in self.tokenized_dataset.items()}\n",
    "        item['labels'] = torch.tensor(self.labels[idx])\n",
    "        return item\n",
    "    \n",
    "    def __len__(self):\n",
    "        return len(self.labels)"
   ]
  },
  {
   "cell_type": "code",
   "execution_count": 5,
   "metadata": {},
   "outputs": [],
   "source": [
    "def preprocessing_dataset(dataset, label_type):\n",
    "    label = []\n",
    "    for i in dataset[8]:\n",
    "        if i == 'blind':\n",
    "            label.append(100)\n",
    "        else:\n",
    "            label.append(label_type[i])\n",
    "    out_dataset = pd.DataFrame({\n",
    "        'id' : dataset[0],\n",
    "        'sentence':dataset[1],\n",
    "        'entity_01':dataset[2],\n",
    "        'entity_01_start' : dataset[3],\n",
    "        'entity_01_end' : dataset[4],\n",
    "        'entity_02':dataset[5],\n",
    "        'entity_02_start' : dataset[6],\n",
    "        'entity_02_end' : dataset[7],\n",
    "        'class':dataset[8],\n",
    "        'label' : label,\n",
    "    })\n",
    "    return out_dataset"
   ]
  },
  {
   "cell_type": "code",
   "execution_count": 6,
   "metadata": {},
   "outputs": [],
   "source": [
    "def load_data(dataset_dir):\n",
    "  # load label_type, classes\n",
    "  with open('/opt/ml/input/data/label_type.pkl', 'rb') as f:\n",
    "    label_type = pickle.load(f)\n",
    "  # load dataset\n",
    "  dataset = pd.read_csv(dataset_dir, delimiter='\\t', header=None)\n",
    "  # preprecessing dataset\n",
    "  dataset = preprocessing_dataset(dataset, label_type)\n",
    "  \n",
    "  return dataset"
   ]
  },
  {
   "cell_type": "code",
   "execution_count": 7,
   "metadata": {},
   "outputs": [],
   "source": [
    "def tokenized_dataset(dataset, tokenizer, ent_token = False):\n",
    "    concat_entity = []\n",
    "    concat_sentence = []\n",
    "    for e01, e02, e1s,e1e,e2s,e2e, sentence in zip(\n",
    "        dataset['entity_01'], \n",
    "        dataset['entity_02'],\n",
    "        dataset['entity_01_start'],\n",
    "        dataset['entity_01_end'], \n",
    "        dataset['entity_02_start'],\n",
    "        dataset['entity_02_end'],\n",
    "        dataset['sentence']):\n",
    "\n",
    "        temp = ''\n",
    "        temp = e01 + '[SEP]' + e02\n",
    "        concat_entity.append(temp)\n",
    "\n",
    "        if ent_token:\n",
    "            if e1s < e2s:\n",
    "                sentence = sentence[:e1s] + \\\n",
    "                '[ENT]' + \\\n",
    "                sentence[e1s:e1e+1] + \\\n",
    "                '[/ENT]' + \\\n",
    "                sentence[e1e+1:e2s] + \\\n",
    "                '[ENT]' +  \\\n",
    "                sentence[e2s:e2e+1] + \\\n",
    "                '[/ENT]'+ \\\n",
    "                sentence[e2e+1:]\n",
    "            elif e1s >= e2s:\n",
    "                sentence = sentence[:e2s] + \\\n",
    "                '[ENT]' + \\\n",
    "                sentence[e2s:e2e+1] + \\\n",
    "                '[/ENT]' + \\\n",
    "                sentence[e2e+1:e1s] + \\\n",
    "                '[ENT]' +  \\\n",
    "                sentence[e1s:e1e+1] + \\\n",
    "                '[/ENT]'+ \\\n",
    "                sentence[e1e+1:]\n",
    "            concat_sentence.append(sentence)\n",
    "    \n",
    "    # 토큰 옵션 있는 경우\n",
    "    if ent_token: \n",
    "        tokenized_sentences = tokenizer(\n",
    "            concat_entity,\n",
    "            concat_sentence,\n",
    "            return_tensors=\"pt\",\n",
    "            padding=True,\n",
    "            truncation=True,\n",
    "            max_length=100,\n",
    "            add_special_tokens=True,\n",
    "        )\n",
    "    # 토큰 옵션 없는 경우\n",
    "    else: \n",
    "        tokenized_sentences = tokenizer(\n",
    "            concat_entity,\n",
    "            list(dataset['sentence']),\n",
    "            return_tensors=\"pt\",\n",
    "            padding=True,\n",
    "            truncation=True,\n",
    "            max_length=100,\n",
    "            add_special_tokens=True,\n",
    "        )\n",
    "        \n",
    "    return tokenized_sentences"
   ]
  },
  {
   "cell_type": "code",
   "execution_count": 11,
   "metadata": {},
   "outputs": [],
   "source": [
    "df = pd.read_csv(\"/opt/ml/input/data/train/EDA/aug_EDA_train.tsv\",delimiter='\\t',header=None)"
   ]
  },
  {
   "cell_type": "code",
   "execution_count": 24,
   "metadata": {},
   "outputs": [],
   "source": [
    "import math\n",
    "start_idx = 0 \n",
    "\n",
    "d = 0\n",
    "for i, data in enumerate(df[4]):\n",
    "    if math.isnan(data):\n",
    "        start_idx = i\n",
    "        break"
   ]
  },
  {
   "cell_type": "code",
   "execution_count": 2,
   "metadata": {},
   "outputs": [],
   "source": [
    "start_idx"
   ]
  },
  {
   "cell_type": "code",
   "execution_count": 55,
   "metadata": {},
   "outputs": [],
   "source": [
    "skf = StratifiedKFold(n_splits = 10)\n",
    "\n",
    "df_sentence = []\n",
    "df_labels = []\n",
    "for sentence in df[0][start_idx:]:\n",
    "    df_sentence.append(sentence)\n",
    "    \n",
    "for label in df[3][start_idx:]:\n",
    "    df_labels.append(label)\n",
    "    \n",
    "df_sentence = np.array(df_sentence)\n",
    "df_label = np.array(df_labels)"
   ]
  },
  {
   "cell_type": "code",
   "execution_count": 3,
   "metadata": {},
   "outputs": [],
   "source": [
    "print(len(df_sentence))"
   ]
  },
  {
   "cell_type": "code",
   "execution_count": 4,
   "metadata": {},
   "outputs": [],
   "source": [
    "print(len(df_label))"
   ]
  },
  {
   "cell_type": "code",
   "execution_count": 5,
   "metadata": {},
   "outputs": [],
   "source": [
    "df_sentence[0]"
   ]
  },
  {
   "cell_type": "code",
   "execution_count": 6,
   "metadata": {},
   "outputs": [],
   "source": [
    "df_label[0]"
   ]
  },
  {
   "cell_type": "code",
   "execution_count": 7,
   "metadata": {},
   "outputs": [],
   "source": [
    "df_train_index = None\n",
    "df_test_index = None\n",
    "\n",
    "for train_index, test_index in skf.split(df_sentence, df_label):\n",
    "    df_train_index = train_index\n",
    "    df_test_index = test_index\n",
    "    break"
   ]
  },
  {
   "cell_type": "code",
   "execution_count": 10,
   "metadata": {},
   "outputs": [],
   "source": [
    "print(len(df_train_index))\n",
    "print(len(df_test_index))\n",
    "\n",
    "for i in range(len(df_train_index)):\n",
    "    df_train_index[i] += start_idx\n",
    "for i in range(len(df_test_index)):\n",
    "    df_test_index[i] += start_idx"
   ]
  },
  {
   "cell_type": "code",
   "execution_count": 62,
   "metadata": {},
   "outputs": [],
   "source": [
    "df_train_split = pd.concat([df.iloc[:start_idx],df.iloc[df_train_index]])\n",
    "df_test_split = df.iloc[df_test_index]"
   ]
  },
  {
   "cell_type": "code",
   "execution_count": 63,
   "metadata": {},
   "outputs": [],
   "source": [
    "df_train_split.to_csv('/opt/ml/input/data/train/EDA/aug_train_EDA(train).tsv', index =False, header = None, sep = \"\\t\")"
   ]
  },
  {
   "cell_type": "code",
   "execution_count": 8,
   "metadata": {},
   "outputs": [],
   "source": [
    "df_train_split "
   ]
  },
  {
   "cell_type": "code",
   "execution_count": 65,
   "metadata": {},
   "outputs": [],
   "source": [
    "df_test_split.to_csv('/opt/ml/input/data/train/EDA/aug_train(test).tsv', index =False, header = None, sep = \"\\t\")"
   ]
  },
  {
   "cell_type": "code",
   "execution_count": 9,
   "metadata": {},
   "outputs": [],
   "source": [
    "df_test_split"
   ]
  },
  {
   "cell_type": "code",
   "execution_count": null,
   "metadata": {},
   "outputs": [],
   "source": []
  }
 ],
 "metadata": {
  "kernelspec": {
   "display_name": "Python 3",
   "language": "python",
   "name": "python3"
  },
  "language_info": {
   "codemirror_mode": {
    "name": "ipython",
    "version": 3
   },
   "file_extension": ".py",
   "mimetype": "text/x-python",
   "name": "python",
   "nbconvert_exporter": "python",
   "pygments_lexer": "ipython3",
   "version": "3.8.3"
  }
 },
 "nbformat": 4,
 "nbformat_minor": 5
}
