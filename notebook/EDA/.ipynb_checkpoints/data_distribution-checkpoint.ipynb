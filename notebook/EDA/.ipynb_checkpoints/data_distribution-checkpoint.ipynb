{
 "cells": [
  {
   "cell_type": "markdown",
   "metadata": {},
   "source": [
    "# 라벨 타입 파악"
   ]
  },
  {
   "cell_type": "code",
   "execution_count": 1,
   "metadata": {},
   "outputs": [],
   "source": [
    "# -*- coding: utf-8 -*-\n",
    "import pickle\n",
    "import pandas as pd\n",
    "import numpy as np\n",
    "import matplotlib.pyplot as plt\n",
    "import seaborn as sns\n",
    "\n",
    "from collections import defaultdict\n",
    "import re"
   ]
  },
  {
   "cell_type": "code",
   "execution_count": 2,
   "metadata": {},
   "outputs": [],
   "source": [
    "with open(\"/opt/ml/input/data/label_type.pkl\", 'rb') as f:\n",
    "    label_type = pickle.load(f) "
   ]
  },
  {
   "cell_type": "code",
   "execution_count": 1,
   "metadata": {},
   "outputs": [],
   "source": [
    "label_type"
   ]
  },
  {
   "cell_type": "markdown",
   "metadata": {},
   "source": [
    "# Train data 분포도 분석"
   ]
  },
  {
   "cell_type": "code",
   "execution_count": 2,
   "metadata": {},
   "outputs": [],
   "source": [
    "df_train = pd.read_csv(\"/opt/ml/input/data/train/train_renew.tsv\", sep = \"\\t\")\n",
    "\n",
    "df_train_columns = df_train.columns\n",
    "insert = []\n",
    "for data in df_train_columns:\n",
    "    insert.append(data)\n",
    "\n",
    "print(len(df_train))\n",
    "    \n",
    "df_train.columns = [\"수집정보\", \"sentence\", \"entity1\", \"entity1_start\", \"entity1_end\", \"entity2\", \"entity2_start\",\"entity2_end\", \"relation\"]\n",
    "print(len(df_train))\n",
    "df_train = df_train.append(pd.Series(insert, index = df_train.columns), ignore_index = True)\n",
    "df_train.tail()"
   ]
  },
  {
   "cell_type": "code",
   "execution_count": 5,
   "metadata": {},
   "outputs": [],
   "source": [
    "temp = df_train.iloc[0]\n",
    "df_train.iloc[0] = df_train.iloc[-1]\n",
    "df_train.iloc[-1] = temp"
   ]
  },
  {
   "cell_type": "code",
   "execution_count": 3,
   "metadata": {},
   "outputs": [],
   "source": [
    "df_train.head()"
   ]
  },
  {
   "cell_type": "code",
   "execution_count": 4,
   "metadata": {},
   "outputs": [],
   "source": [
    "df_train.tail()"
   ]
  },
  {
   "cell_type": "code",
   "execution_count": 8,
   "metadata": {},
   "outputs": [
    {
     "name": "stdout",
     "output_type": "stream",
     "text": [
      "42\n"
     ]
    }
   ],
   "source": [
    "print(len(set(df_train[\"relation\"])))"
   ]
  },
  {
   "cell_type": "code",
   "execution_count": 9,
   "metadata": {},
   "outputs": [],
   "source": [
    "def preprocessing(text):\n",
    "    text = text.strip()\n",
    "    text = re.sub('\\\\\\n', ' ', text)\n",
    "    text = re.sub('[^[]a-zA-Z0-9ㄱ-ㅣ가-힣]',' ',text)\n",
    "    text = re.sub(' +', ' ', text)\n",
    "    text = text.strip()\n",
    "    return text"
   ]
  },
  {
   "cell_type": "code",
   "execution_count": 5,
   "metadata": {},
   "outputs": [],
   "source": [
    "preprocessing('[ENT]')"
   ]
  },
  {
   "cell_type": "code",
   "execution_count": 7,
   "metadata": {},
   "outputs": [],
   "source": [
    "# 개별 클래스마다의 분포\n",
    "# 불균형이 생각보다 되게 심함을 알 수 있다.\n",
    "\n",
    "# -*- coding: utf-8 -*-\n",
    "labels = []\n",
    "\n",
    "for i in range(42):\n",
    "    labels.append(i)\n",
    "\n",
    "class_dict = dict()\n",
    "\n",
    "for k in label_type.keys():\n",
    "    class_dict[k] = 0\n",
    "\n",
    "\n",
    "for i in range(1,len(df_train)):\n",
    "    row = df_train.iloc[i, :]\n",
    "    class_dict[row['relation']] += 1\n",
    "\n",
    "frequency = []\n",
    "\n",
    "for value in class_dict.values():\n",
    "    frequency.append(value)\n",
    "\n",
    "colors = sns.color_palette('hls',len(labels))\n",
    "    \n",
    "fig = plt.figure(figsize=(8,8))\n",
    "fig.set_facecolor('white') ## 캔버스 배경색을 하얀색으로 설정\n",
    "ax = fig.add_subplot() ## 프레임 생성\n",
    " \n",
    "pie = ax.pie(frequency, ## 파이차트 출력\n",
    "       startangle=90, ## 시작점을 90도(degree)로 지정ㅔ\n",
    "       counterclock=False, ## 시계 방향으로 그린다.\n",
    "#        autopct=lambda p : '{:.2f}%'.format(p), ## 퍼센티지 출력\n",
    "       colors = colors ## 색상 지정\n",
    "       )\n",
    "\n",
    "plt.legend(pie[0],labels) ## 범례 표시\n",
    "plt.show()  "
   ]
  },
  {
   "cell_type": "code",
   "execution_count": 6,
   "metadata": {},
   "outputs": [],
   "source": [
    "# 구체적인 클래스 분포도\n",
    "for k,v in class_dict.items():\n",
    "    print(k ,\"\\t\" ,v)"
   ]
  },
  {
   "cell_type": "code",
   "execution_count": 8,
   "metadata": {},
   "outputs": [],
   "source": [
    "class1_set = set()\n",
    "\n",
    "# 대분류는 3개임을 알 수 있다.\n",
    "for k in class_dict.keys():\n",
    "    class_list = k.split(\":\")\n",
    "    class1_set.add(class_list[0])\n",
    "print(len(class1_set))"
   ]
  },
  {
   "cell_type": "code",
   "execution_count": 14,
   "metadata": {},
   "outputs": [],
   "source": [
    "# 대분류 마다의 클래스 분포 파악\n",
    "class_dict1 = defaultdict(int) # 관계 없음\n",
    "class_dict2 = defaultdict(int) # 단체\n",
    "class_dict3 = defaultdict(int) # 인물\n",
    "\n",
    "for k, v in class_dict.items():\n",
    "    class_list = k.split(\":\")\n",
    "    if class_list[0] == '관계_없음':\n",
    "        class_dict1[class_list[0]] += v\n",
    "    elif class_list[0] == '단체':\n",
    "        class_dict2[class_list[1]] += v\n",
    "    elif class_list[0] == '인물':\n",
    "        class_dict3[class_list[1]] += v  "
   ]
  },
  {
   "cell_type": "code",
   "execution_count": 9,
   "metadata": {},
   "outputs": [],
   "source": [
    "print(len(class_dict1.keys())) # 관계 없음\n",
    "print(len(class_dict2.keys())) # 단체\n",
    "print(len(class_dict3.keys())) # 인물"
   ]
  },
  {
   "cell_type": "code",
   "execution_count": 10,
   "metadata": {},
   "outputs": [],
   "source": [
    "# 단체별 클래스 분포\n",
    "\n",
    "labels = []\n",
    "\n",
    "for i in range(16):\n",
    "    labels.append(i)\n",
    "\n",
    "frequency = []\n",
    "\n",
    "label_dict = {\n",
    "    \"모회사\" : \"Company\",\n",
    "    \"별칭\" : \"Nickname\",\n",
    "    \"본사_국가\":\"Headquarters_Country\",\n",
    "    \"구성원\" : \"Member\",\n",
    "    \"창립자\" : \"Founder\",\n",
    "    \"주주\" : \"Shareholder\",\n",
    "    \"상위_단체\": \"Top_Organization\",\n",
    "    \"본사_주(도)\" : \"Headquarters_State(Province)\",\n",
    "    \"제작\" : \"Making\",\n",
    "    \"본사_도시\" : \"Headquarters_City\",\n",
    "    \"하위_단체\" : \"Sub_group\",\n",
    "    \"구성원_수\" :\"Number of members\" ,\n",
    "    \"자회사\" : \"Subsidiary company\",\n",
    "    \"해산일\" : \"Dissolution\",\n",
    "    \"창립일\" : \"Founding date\",\n",
    "    \"정치/종교성향\" : \"Political/Religious Orientation\"\n",
    "}\n",
    "\n",
    "for key,value in class_dict2.items():\n",
    "    frequency.append(value)\n",
    "\n",
    "colors = sns.color_palette('hls',len(labels))\n",
    "    \n",
    "fig = plt.figure(figsize=(8,8))\n",
    "fig.set_facecolor('white') ## 캔버스 배경색을 하얀색으로 설정\n",
    "ax = fig.add_subplot() ## 프레임 생성\n",
    " \n",
    "pie = ax.pie(frequency, ## 파이차트 출력\n",
    "       startangle=90, ## 시작점을 90도(degree)로 지정ㅔ\n",
    "       counterclock=False, ## 시계 방향으로 그린다.\n",
    "#        autopct=lambda p : '{:.2f}%'.format(p), ## 퍼센티지 출력\n",
    "       colors = colors ## 색상 지정\n",
    "       )\n",
    "labels = []\n",
    "\n",
    "for key,value in class_dict2.items():\n",
    "    labels.append(label_dict[key])\n",
    "    \n",
    "plt.legend(pie[0],labels) ## 범례 표시\n",
    "plt.show() "
   ]
  },
  {
   "cell_type": "code",
   "execution_count": 11,
   "metadata": {},
   "outputs": [],
   "source": [
    "class_dict2"
   ]
  },
  {
   "cell_type": "code",
   "execution_count": 12,
   "metadata": {},
   "outputs": [],
   "source": [
    "# 인물별 클래스 분포\n",
    "labels = []\n",
    "for i in range(25):\n",
    "    labels.append(i)\n",
    "\n",
    "frequency = []\n",
    "\n",
    "label_dict = {\n",
    "    \"배우자\" : \"Spouse\",\n",
    "    \"직업/직함\" : \"Occupation/Title\",\n",
    "    \"소속단체\" : \"Organization\",\n",
    "    \"동료\" : \"colleague\",\n",
    "    \"출신성분/국적\" : \"Origin/Nationality\",\n",
    "    \"부모님\" : \"parents\",\n",
    "    \"기타_친족\" : \"Other_kin\",\n",
    "    \"사망_일시\" : \"Death_Date\",\n",
    "    \"사망_원인\" : \"Death_Cause\",\n",
    "    \"출생_도시\" : \"Birth_city\",\n",
    "    \"자녀\" : \"children\",\n",
    "    \"제작\" : \"making\",\n",
    "    \"별칭\" : \"Nickname\",\n",
    "    \"형제/자매/남매\" : \"Brother/Sister/Sister\",\n",
    "    \"출생_국가\" : \"Birth_country\",\n",
    "    \"출생_일시\" : \"Birth_date\",\n",
    "    \"거주_주(도)\" : \"Residence_State (province)\",\n",
    "    \"거주_도시\" : \"Residence_city\",\n",
    "    \"종교\" : \"religion\",\n",
    "    \"거주_국가\" : \"Residence_Country\",\n",
    "    \"용의자\" : \"suspect\",\n",
    "    \"사망_도시\" : \"Death_city\",\n",
    "    \"학교\" : \"school\",\n",
    "    \"사망_국가\" : \"Death_country\",\n",
    "    \"나이\" : \"age\"\n",
    "}\n",
    "\n",
    "for key,value in class_dict3.items():\n",
    "    frequency.append(value)\n",
    "\n",
    "colors = sns.color_palette('hls',len(labels))\n",
    "    \n",
    "fig = plt.figure(figsize=(8,8))\n",
    "fig.set_facecolor('white') ## 캔버스 배경색을 하얀색으로 설정\n",
    "ax = fig.add_subplot() ## 프레임 생성\n",
    " \n",
    "pie = ax.pie(frequency, ## 파이차트 출력\n",
    "       startangle=90, ## 시작점을 90도(degree)로 지정ㅔ\n",
    "       counterclock=False, ## 시계 방향으로 그린다.\n",
    "#        autopct=lambda p : '{:.2f}%'.format(p), ## 퍼센티지 출력\n",
    "       colors = colors ## 색상 지정\n",
    "       )\n",
    "\n",
    "labels = []\n",
    "for key,value in class_dict3.items():\n",
    "    labels.append(label_dict[key])\n",
    "\n",
    "\n",
    "plt.legend(pie[0],labels) ## 범례 표시\n",
    "plt.show() "
   ]
  },
  {
   "cell_type": "code",
   "execution_count": 13,
   "metadata": {},
   "outputs": [],
   "source": [
    "# 대분류별 클래스 분포도\n",
    "labels = []\n",
    "\n",
    "main_category_dict = defaultdict(int)\n",
    "\n",
    "for k,v in class_dict.items():\n",
    "    class_list = k.split(\":\")\n",
    "    main_category_dict[class_list[0]] += v\n",
    "for i in range(3):\n",
    "    labels.append(i)\n",
    "\n",
    "frequency = []\n",
    "\n",
    "for value in main_category_dict.values():\n",
    "    frequency.append(value)\n",
    "\n",
    "colors = sns.color_palette('hls',len(labels))\n",
    "    \n",
    "fig = plt.figure(figsize=(8,8))\n",
    "fig.set_facecolor('white') ## 캔버스 배경색을 하얀색으로 설정\n",
    "ax = fig.add_subplot() ## 프레임 생성\n",
    " \n",
    "pie = ax.pie(frequency, ## 파이차트 출력\n",
    "       startangle=90, ## 시작점을 90도(degree)로 지정ㅔ\n",
    "       counterclock=False, ## 시계 방향으로 그린다.\n",
    "#        autopct=lambda p : '{:.2f}%'.format(p), ## 퍼센티지 출력\n",
    "       colors = colors ## 색상 지정\n",
    "       )\n",
    "\n",
    "labels = ['norelation', 'person', 'group']\n",
    "plt.legend(pie[0],labels) ## 범례 표시\n",
    "plt.show() "
   ]
  },
  {
   "cell_type": "markdown",
   "metadata": {},
   "source": [
    "1, 테스트 데이터셋을 외부에서 구하기\n",
    "\n",
    "2, 생성모델로 데이터셋 만들기\n",
    "\n",
    "3, 지금 있는 문장을 가지고 다른 단어의 쌍을 가지고 관계를 구해보기\n",
    "\n",
    "-> 이것도 괜찮을 듯, 왜냐면 관계없음이 되게 많은 데이터 수를 가지고 있기 때문에"
   ]
  },
  {
   "cell_type": "markdown",
   "metadata": {},
   "source": [
    "# 문장 길이에 대한 분석"
   ]
  },
  {
   "cell_type": "code",
   "execution_count": 14,
   "metadata": {},
   "outputs": [],
   "source": [
    "# 전처리 전 문장 길이 분석\n",
    "sentence_len_list = []\n",
    "\n",
    "for i in range(len(df_train)):\n",
    "    row = df_train.iloc[i, :]\n",
    "    sentence_len_list.append(len(row['sentence']))\n",
    "\n",
    "sentence_len_list = np.array(sentence_len_list)\n",
    "\n",
    "print(\"문장 길이에 대한 정보\")\n",
    "print(\"count : \", len(sentence_len_list))\n",
    "print(\"mean of len : \", np.mean(sentence_len_list))\n",
    "print(\"std of len : \", np.std(sentence_len_list))\n",
    "print(\"max of len : \", np.max(sentence_len_list))\n",
    "print(\"min of len : \", np.min(sentence_len_list))\n",
    "print('제 1사분위 길이 : {}'.format(np.percentile(sentence_len_list, 25)))\n",
    "print('제 2사분위 길이 : {}'.format(np.percentile(sentence_len_list, 50)))\n",
    "print('제 3사분위 길이 : {}'.format(np.percentile(sentence_len_list, 75)))"
   ]
  },
  {
   "cell_type": "code",
   "execution_count": 15,
   "metadata": {},
   "outputs": [],
   "source": [
    "# 길이를 박스플롯으로\n",
    "plt.figure(figsize=(12,5))\n",
    "plt.boxplot([sentence_len_list],\n",
    "            labels = ['Word'],\n",
    "            showmeans=True)"
   ]
  },
  {
   "cell_type": "code",
   "execution_count": 16,
   "metadata": {},
   "outputs": [],
   "source": [
    "# 전처리 전 문장 길이 분석\n",
    "sentence_list = []\n",
    "\n",
    "for i in range(len(df_train)):\n",
    "    row = df_train.iloc[i, :]\n",
    "    sentence_list.append(row['sentence'])\n",
    "\n",
    "print(sentence_list[1])"
   ]
  },
  {
   "cell_type": "markdown",
   "metadata": {},
   "source": [
    "자연어 Augmentation방법 모아놓은 사이트\n",
    "\n",
    "1, https://github.com/catSirup/KorEDA/tree/master , https://fish-tank.tistory.com/m/95?category=842001\n",
    "\n",
    "2,https://catsirup.github.io/ai/2020/04/21/nlp_data_argumentation.html\n"
   ]
  },
  {
   "cell_type": "markdown",
   "metadata": {},
   "source": [
    "자연어처리 EDA\n",
    "\n",
    "1, https://soyoung-new-challenge.tistory.com/35\n",
    "\n",
    "자연어 back translation\n",
    "1, https://hong-yp-ml-records.tistory.com/102"
   ]
  },
  {
   "cell_type": "code",
   "execution_count": 17,
   "metadata": {},
   "outputs": [],
   "source": [
    "# 전처리 후\n",
    "sentence_len_list = []\n",
    "\n",
    "for i in range(len(df_train)):\n",
    "    row = df_train.iloc[i, :]\n",
    "    sentence_len_list.append(len(preprocessing(row['sentence'])))\n",
    "\n",
    "sentence_len_list = np.array(sentence_len_list)\n",
    "\n",
    "print(\"문장 길이에 대한 정보\")\n",
    "print(\"count : \", len(sentence_len_list))\n",
    "print(\"mean of len : \", np.mean(sentence_len_list))\n",
    "print(\"std of len : \", np.std(sentence_len_list))\n",
    "print(\"max of len : \", np.max(sentence_len_list))\n",
    "print(\"min of len : \", np.min(sentence_len_list))\n",
    "print('제 1사분위 길이 : {}'.format(np.percentile(sentence_len_list, 25)))\n",
    "print('제 2사분위 길이 : {}'.format(np.percentile(sentence_len_list, 50)))\n",
    "print('제 3사분위 길이 : {}'.format(np.percentile(sentence_len_list, 75)))"
   ]
  },
  {
   "cell_type": "code",
   "execution_count": 18,
   "metadata": {},
   "outputs": [],
   "source": [
    "# 길이를 박스플롯으로\n",
    "plt.figure(figsize=(12,5))\n",
    "plt.boxplot([sentence_len_list],\n",
    "            labels = ['Word'],\n",
    "            showmeans=True)"
   ]
  },
  {
   "cell_type": "code",
   "execution_count": 67,
   "metadata": {},
   "outputs": [],
   "source": [
    "sentence_list = []\n",
    "for i in range(len(df_train)):\n",
    "    row = df_train.iloc[i, :]\n",
    "    sentence_list.append(preprocessing(row['sentence']))"
   ]
  },
  {
   "cell_type": "code",
   "execution_count": 19,
   "metadata": {},
   "outputs": [],
   "source": [
    "sentence_list[:10]"
   ]
  },
  {
   "cell_type": "code",
   "execution_count": 20,
   "metadata": {},
   "outputs": [],
   "source": [
    "sentence_list[9]"
   ]
  },
  {
   "cell_type": "code",
   "execution_count": 21,
   "metadata": {},
   "outputs": [],
   "source": [
    "preprocessing('1995년 9월 14일')"
   ]
  },
  {
   "cell_type": "code",
   "execution_count": null,
   "metadata": {},
   "outputs": [],
   "source": []
  },
  {
   "cell_type": "code",
   "execution_count": null,
   "metadata": {},
   "outputs": [],
   "source": []
  }
 ],
 "metadata": {
  "kernelspec": {
   "display_name": "Python 3",
   "language": "python",
   "name": "python3"
  },
  "language_info": {
   "codemirror_mode": {
    "name": "ipython",
    "version": 3
   },
   "file_extension": ".py",
   "mimetype": "text/x-python",
   "name": "python",
   "nbconvert_exporter": "python",
   "pygments_lexer": "ipython3",
   "version": "3.8.3"
  }
 },
 "nbformat": 4,
 "nbformat_minor": 5
}
