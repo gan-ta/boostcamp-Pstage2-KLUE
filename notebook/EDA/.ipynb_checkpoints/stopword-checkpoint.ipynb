{
 "cells": [
  {
   "cell_type": "code",
   "execution_count": 1,
   "metadata": {},
   "outputs": [],
   "source": [
    "import torch\n",
    "from konlpy.tag import Mecab\n",
    "from collections import defaultdict\n",
    "import pickle\n",
    "import pandas as pd\n",
    "import seaborn as sns\n",
    "\n",
    "mecab = Mecab()\n",
    "morphs = mecab.pos(\"아버지가방에들어가신다.\", join=False)\n",
    "print(morphs)"
   ]
  },
  {
   "cell_type": "code",
   "execution_count": 2,
   "metadata": {},
   "outputs": [],
   "source": [
    "class RE_Dataset(torch.utils.data.Dataset):\n",
    "    def __init__(self, tokenized_dataset, labels):\n",
    "        self.tokenized_dataset = tokenized_dataset\n",
    "        self.labels = labels\n",
    "        \n",
    "    def __getitem__(self, idx):\n",
    "        item = {key: torch.tensor(val[idx]) for key, val in self.tokenized_dataset.items()}\n",
    "        item['labels'] = torch.tensor(self.labels[idx])\n",
    "        return item\n",
    "    \n",
    "    def __len__(self):\n",
    "        return len(self.labels)"
   ]
  },
  {
   "cell_type": "code",
   "execution_count": 3,
   "metadata": {},
   "outputs": [],
   "source": [
    "def preprocessing_dataset(dataset, label_type):\n",
    "    label = []\n",
    "    for i in dataset[8]:\n",
    "        if i == 'blind':\n",
    "            label.append(100)\n",
    "        else:\n",
    "            label.append(label_type[i])\n",
    "    out_dataset = pd.DataFrame({\n",
    "        'sentence':dataset[1],\n",
    "        'entity_01':dataset[2],\n",
    "        'entity_02':dataset[5],\n",
    "        'label':label,\n",
    "        'entity_01_start' : dataset[3],\n",
    "        'entity_01_end' : dataset[4],\n",
    "        'entity_02_start' : dataset[6],\n",
    "        'entity_02_end' : dataset[7]\n",
    "    })\n",
    "    return out_dataset"
   ]
  },
  {
   "cell_type": "code",
   "execution_count": 4,
   "metadata": {},
   "outputs": [],
   "source": [
    "def load_data(dataset_dir):\n",
    "  # load label_type, classes\n",
    "  with open('/opt/ml/input/data/label_type.pkl', 'rb') as f:\n",
    "    label_type = pickle.load(f)\n",
    "  # load dataset\n",
    "  dataset = pd.read_csv(dataset_dir, delimiter='\\t', header=None)\n",
    "  # preprecessing dataset\n",
    "  dataset = preprocessing_dataset(dataset, label_type)\n",
    "  \n",
    "  return dataset"
   ]
  },
  {
   "cell_type": "code",
   "execution_count": 5,
   "metadata": {},
   "outputs": [],
   "source": [
    "def tokenized_dataset(dataset, tokenizer, ent_token = False):\n",
    "    concat_entity = []\n",
    "    concat_sentence = []\n",
    "    for e01, e02, e1s,e1e,e2s,e2e, sentence in zip(\n",
    "        dataset['entity_01'], \n",
    "        dataset['entity_02'],\n",
    "        dataset['entity_01_start'],\n",
    "        dataset['entity_01_end'], \n",
    "        dataset['entity_02_start'],\n",
    "        dataset['entity_02_end'],\n",
    "        dataset['sentence']):\n",
    "\n",
    "        temp = ''\n",
    "        temp = e01 + '[SEP]' + e02\n",
    "        concat_entity.append(temp)\n",
    "\n",
    "        if ent_token:\n",
    "            if e1s < e2s:\n",
    "                sentence = sentence[:e1s] + \\\n",
    "                '[ENT]' + \\\n",
    "                sentence[e1s:e1e+1] + \\\n",
    "                '[/ENT]' + \\\n",
    "                sentence[e1e+1:e2s] + \\\n",
    "                '[ENT]' +  \\\n",
    "                sentence[e2s:e2e+1] + \\\n",
    "                '[/ENT]'+ \\\n",
    "                sentence[e2e+1:]\n",
    "            elif e1s >= e2s:\n",
    "                sentence = sentence[:e2s] + \\\n",
    "                '[ENT]' + \\\n",
    "                sentence[e2s:e2e+1] + \\\n",
    "                '[/ENT]' + \\\n",
    "                sentence[e2e+1:e1s] + \\\n",
    "                '[ENT]' +  \\\n",
    "                sentence[e1s:e1e+1] + \\\n",
    "                '[/ENT]'+ \\\n",
    "                sentence[e1e+1:]\n",
    "            concat_sentence.append(sentence)\n",
    "    \n",
    "    # 토큰 옵션 있는 경우\n",
    "    if ent_token: \n",
    "        tokenized_sentences = tokenizer(\n",
    "            concat_entity,\n",
    "            concat_sentence,\n",
    "            return_tensors=\"pt\",\n",
    "            padding=True,\n",
    "            truncation=True,\n",
    "            max_length=100,\n",
    "            add_special_tokens=True,\n",
    "        )\n",
    "    # 토큰 옵션 없는 경우\n",
    "    else: \n",
    "        tokenized_sentences = tokenizer(\n",
    "            concat_entity,\n",
    "            list(dataset['sentence']),\n",
    "            return_tensors=\"pt\",\n",
    "            padding=True,\n",
    "            truncation=True,\n",
    "            max_length=100,\n",
    "            add_special_tokens=True,\n",
    "        )\n",
    "        \n",
    "    return tokenized_sentences"
   ]
  },
  {
   "cell_type": "code",
   "execution_count": 8,
   "metadata": {},
   "outputs": [],
   "source": [
    "df = load_data(\"/opt/ml/input/data/train/train_renew.tsv\")\n",
    "sentences = df['sentence'].tolist()"
   ]
  },
  {
   "cell_type": "code",
   "execution_count": 9,
   "metadata": {},
   "outputs": [],
   "source": [
    "part_list = defaultdict(int)\n",
    "\n",
    "for sentence in sentences:\n",
    "    morphs = mecab.pos(sentence, join=False)\n",
    "    for morph in morphs:\n",
    "        part_list[morph[1]] += 1"
   ]
  },
  {
   "cell_type": "code",
   "execution_count": 2,
   "metadata": {},
   "outputs": [],
   "source": [
    "part_list"
   ]
  },
  {
   "cell_type": "code",
   "execution_count": 11,
   "metadata": {},
   "outputs": [],
   "source": [
    "df = pd.DataFrame(data = {\"part\" : part_list.keys(), \"count\" : part_list.values()}, columns = [\"part\", \"count\"] )"
   ]
  },
  {
   "cell_type": "code",
   "execution_count": 3,
   "metadata": {},
   "outputs": [],
   "source": [
    "import matplotlib.pyplot as plt\n",
    "\n",
    "plt.figure(figsize=(30, 10))\n",
    "ax = sns.barplot(x = \"part\", y = \"count\",data = df)\n",
    "ax.set_xticks([])\n",
    "plt.show()"
   ]
  },
  {
   "cell_type": "code",
   "execution_count": 8,
   "metadata": {},
   "outputs": [],
   "source": [
    "postpositions = set()\n",
    "conjunctions = set()\n",
    "\n",
    "postposition_tag = ['JKS', 'JKC', 'JKG', 'JKO', 'JKB', 'JKV', 'JKQ', 'JX', 'JC'] # 조사 태그 리스트 \n",
    "conjunction_tag = ['MAG'] # 접속사 태그 리스트\n",
    "\n",
    "for sentence in sentences:\n",
    "    morphs = mecab.pos(sentence, join=False)\n",
    "    for morph in morphs:\n",
    "\n",
    "        if morph[1] in postposition_tag:\n",
    "            postpositions.add(morph)\n",
    "\n",
    "        if morph[1] in conjunction_tag:\n",
    "            conjunctions.add(morph)\n",
    "\n",
    "print(len(postpositions))\n",
    "print(len(conjunctions))"
   ]
  },
  {
   "cell_type": "code",
   "execution_count": 4,
   "metadata": {},
   "outputs": [],
   "source": [
    "print(list(postpositions)[:10])\n",
    "print(list(conjunctions)[:10])"
   ]
  },
  {
   "cell_type": "code",
   "execution_count": 16,
   "metadata": {},
   "outputs": [],
   "source": [
    "# Entity에 불용어가 있는지 확인\n",
    "df = load_data(\"/opt/ml/input/data/train/train_renew.tsv\")\n",
    "entity1_list = df['entity_01'].tolist()\n",
    "entity2_list = df['entity_02'].tolist()"
   ]
  },
  {
   "cell_type": "code",
   "execution_count": 7,
   "metadata": {},
   "outputs": [],
   "source": [
    "postpositions = set()\n",
    "conjunctions = set()\n",
    "\n",
    "for entity1 in entity1_list:\n",
    "\n",
    "    morphs = mecab.pos(entity1, join=False)\n",
    "    for morph in morphs:\n",
    "\n",
    "        if morph[1] in postposition_tag:\n",
    "            postpositions.add(morph)\n",
    "\n",
    "        if morph[1] in conjunction_tag:\n",
    "            conjunctions.add(morph)\n",
    "            \n",
    "\n",
    "for entity2 in entity1_list:\n",
    "\n",
    "    morphs = mecab.pos(entity2, join=False)\n",
    "    for morph in morphs:\n",
    "\n",
    "        if morph[1] in postposition_tag:\n",
    "            postpositions.add(morph)\n",
    "\n",
    "        if morph[1] in conjunction_tag:\n",
    "            conjunctions.add(morph)\n",
    "            \n",
    "print(len(postpositions))\n",
    "print(len(conjunctions))"
   ]
  },
  {
   "cell_type": "code",
   "execution_count": 5,
   "metadata": {},
   "outputs": [],
   "source": [
    "print(list(postpositions)[:20])"
   ]
  },
  {
   "cell_type": "code",
   "execution_count": 6,
   "metadata": {},
   "outputs": [],
   "source": [
    "print(list(conjunctions)[:20])"
   ]
  },
  {
   "cell_type": "code",
   "execution_count": 20,
   "metadata": {},
   "outputs": [],
   "source": [
    "from transformers import AutoTokenizer\n",
    "tokenizer = AutoTokenizer.from_pretrained(\"kykim/bert-kor-base\")\n",
    "\n",
    "vocab = tokenizer.get_vocab()"
   ]
  },
  {
   "cell_type": "code",
   "execution_count": null,
   "metadata": {},
   "outputs": [],
   "source": []
  }
 ],
 "metadata": {
  "kernelspec": {
   "display_name": "Python 3",
   "language": "python",
   "name": "python3"
  },
  "language_info": {
   "codemirror_mode": {
    "name": "ipython",
    "version": 3
   },
   "file_extension": ".py",
   "mimetype": "text/x-python",
   "name": "python",
   "nbconvert_exporter": "python",
   "pygments_lexer": "ipython3",
   "version": "3.8.3"
  }
 },
 "nbformat": 4,
 "nbformat_minor": 5
}
