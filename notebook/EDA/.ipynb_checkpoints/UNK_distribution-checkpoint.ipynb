{
 "cells": [
  {
   "cell_type": "code",
   "execution_count": 2,
   "metadata": {},
   "outputs": [],
   "source": [
    "import pickle as pickle\n",
    "import pandas as pd\n",
    "import numpy as np\n",
    "import torch\n",
    "from tqdm.auto import tqdm\n",
    "import matplotlib.pyplot as plt\n",
    "import seaborn as sns\n",
    "\n",
    "\n",
    "from transformers import AutoTokenizer"
   ]
  },
  {
   "cell_type": "code",
   "execution_count": 3,
   "metadata": {},
   "outputs": [],
   "source": [
    "def preprocessing_dataset(dataset, label_type):\n",
    "    label = []\n",
    "    for i in dataset[8]:\n",
    "        if i == 'blind':\n",
    "            label.append(100)\n",
    "        else:\n",
    "            label.append(label_type[i])\n",
    "    out_dataset = pd.DataFrame({\n",
    "        'sentence':dataset[1],\n",
    "        'entity_01':dataset[2],\n",
    "        'entity_02':dataset[5],\n",
    "        'label':label,\n",
    "        'entity_01_start' : dataset[3],\n",
    "        'entity_01_end' : dataset[4],\n",
    "        'entity_02_start' : dataset[6],\n",
    "        'entity_02_end' : dataset[7]\n",
    "    })\n",
    "    return out_dataset"
   ]
  },
  {
   "cell_type": "code",
   "execution_count": 4,
   "metadata": {},
   "outputs": [],
   "source": [
    "def load_data(dataset_dir):\n",
    "  # load label_type, classes\n",
    "  with open('/opt/ml/input/data/label_type.pkl', 'rb') as f:\n",
    "    label_type = pickle.load(f)\n",
    "  # load dataset\n",
    "  dataset = pd.read_csv(dataset_dir, delimiter='\\t', header=None)\n",
    "  # preprecessing dataset\n",
    "  dataset = preprocessing_dataset(dataset, label_type)\n",
    "  \n",
    "  return dataset"
   ]
  },
  {
   "cell_type": "code",
   "execution_count": 5,
   "metadata": {},
   "outputs": [],
   "source": [
    "df = load_data(\"/opt/ml/input/data/train/train_renew.tsv\")"
   ]
  },
  {
   "cell_type": "markdown",
   "metadata": {},
   "source": [
    "# kobert"
   ]
  },
  {
   "cell_type": "code",
   "execution_count": 6,
   "metadata": {},
   "outputs": [],
   "source": [
    "tokenizer = AutoTokenizer.from_pretrained(\"kykim/bert-kor-base\")\n",
    "sentence = df['sentence'].tolist()"
   ]
  },
  {
   "cell_type": "code",
   "execution_count": 7,
   "metadata": {},
   "outputs": [],
   "source": [
    "res = []\n",
    "\n",
    "for i in range(len(sentence)):\n",
    "    res.append(tokenizer(\n",
    "        sentence[i],\n",
    "        return_tensors=\"pt\",\n",
    "        add_special_tokens = True\n",
    "    ))\n",
    "\n",
    "encoded_sentences = []\n",
    "\n",
    "for i in range(len(res)):\n",
    "    s = [tokenizer.convert_ids_to_tokens(s) for s in res[i]['input_ids']]\n",
    "    encoded_sentences.append(s[0])"
   ]
  },
  {
   "cell_type": "code",
   "execution_count": 1,
   "metadata": {},
   "outputs": [],
   "source": [
    "encoded_sentences[0]"
   ]
  },
  {
   "cell_type": "code",
   "execution_count": 9,
   "metadata": {},
   "outputs": [],
   "source": [
    "unk_count = 0\n",
    "unk_count_list = []\n",
    "for encoded_sentence in encoded_sentences:\n",
    "    unk_count = 0\n",
    "    for token in encoded_sentence:\n",
    "        if token == '[UNK]':\n",
    "            unk_count += 1\n",
    "    unk_count_list.append(unk_count)\n",
    "\n",
    "df['UNK_count'] = unk_count_list"
   ]
  },
  {
   "cell_type": "code",
   "execution_count": 3,
   "metadata": {},
   "outputs": [],
   "source": [
    "sns.countplot(x = \"UNK_count\", data = df)"
   ]
  },
  {
   "cell_type": "code",
   "execution_count": 4,
   "metadata": {},
   "outputs": [],
   "source": [
    "from collections import defaultdict\n",
    "unk_count = defaultdict(int)\n",
    "for v in df['UNK_count']:\n",
    "    unk_count[v] += 1\n",
    "\n",
    "for k,v in unk_count.items():\n",
    "    print(str(k) + \"\\t\" + str(v))"
   ]
  },
  {
   "cell_type": "markdown",
   "metadata": {},
   "source": [
    "# multilingual"
   ]
  },
  {
   "cell_type": "code",
   "execution_count": 25,
   "metadata": {},
   "outputs": [],
   "source": [
    "tokenizer = AutoTokenizer.from_pretrained(\"bert-base-multilingual-cased\")\n",
    "sentence = df['sentence'].tolist()"
   ]
  },
  {
   "cell_type": "code",
   "execution_count": 26,
   "metadata": {},
   "outputs": [],
   "source": [
    "res = []\n",
    "\n",
    "for i in range(len(sentence)):\n",
    "    res.append(tokenizer(\n",
    "        sentence[i],\n",
    "        return_tensors=\"pt\",\n",
    "        add_special_tokens = True\n",
    "    ))\n",
    "\n",
    "encoded_sentences = []\n",
    "\n",
    "for i in range(len(res)):\n",
    "    s = [tokenizer.convert_ids_to_tokens(s) for s in res[i]['input_ids']]\n",
    "    encoded_sentences.append(s[0])"
   ]
  },
  {
   "cell_type": "code",
   "execution_count": 27,
   "metadata": {},
   "outputs": [],
   "source": [
    "unk_count = 0\n",
    "unk_count_list = []\n",
    "for encoded_sentence in encoded_sentences:\n",
    "    unk_count = 0\n",
    "    for token in encoded_sentence:\n",
    "        if token == '[UNK]':\n",
    "            unk_count += 1\n",
    "    unk_count_list.append(unk_count)\n",
    "\n",
    "df['UNK_count'] = unk_count_list\n",
    "    "
   ]
  },
  {
   "cell_type": "code",
   "execution_count": 5,
   "metadata": {},
   "outputs": [],
   "source": [
    "sns.countplot(x = \"UNK_count\", data = df)"
   ]
  },
  {
   "cell_type": "code",
   "execution_count": 6,
   "metadata": {},
   "outputs": [],
   "source": [
    "from collections import defaultdict\n",
    "unk_count = defaultdict(int)\n",
    "for v in df['UNK_count']:\n",
    "    unk_count[v] += 1\n",
    "\n",
    "for k,v in unk_count.items():\n",
    "    print(str(k) + \"\\t\" + str(v))"
   ]
  },
  {
   "cell_type": "markdown",
   "metadata": {},
   "source": [
    "# Roberta"
   ]
  },
  {
   "cell_type": "code",
   "execution_count": 18,
   "metadata": {},
   "outputs": [],
   "source": [
    "tokenizer = AutoTokenizer.from_pretrained(\"xlm-roberta-large\")\n",
    "sentence = df['sentence'].tolist()"
   ]
  },
  {
   "cell_type": "code",
   "execution_count": 21,
   "metadata": {},
   "outputs": [],
   "source": [
    "vocab = tokenizer.get_vocab()"
   ]
  },
  {
   "cell_type": "code",
   "execution_count": 19,
   "metadata": {},
   "outputs": [],
   "source": [
    "res = []\n",
    "\n",
    "for i in range(len(sentence)):\n",
    "    res.append(tokenizer(\n",
    "        sentence[i],\n",
    "        return_tensors=\"pt\",\n",
    "        add_special_tokens = True\n",
    "    ))\n",
    "\n",
    "encoded_sentences = []\n",
    "\n",
    "for i in range(len(res)):\n",
    "    s = [tokenizer.convert_ids_to_tokens(s) for s in res[i]['input_ids']]\n",
    "    encoded_sentences.append(s[0])"
   ]
  },
  {
   "cell_type": "code",
   "execution_count": 20,
   "metadata": {},
   "outputs": [],
   "source": [
    "unk_count = 0\n",
    "unk_count_list = []\n",
    "for encoded_sentence in encoded_sentences:\n",
    "    unk_count = 0\n",
    "    for token in encoded_sentence:\n",
    "        if token == '<unk>':\n",
    "            unk_count += 1\n",
    "    unk_count_list.append(unk_count)\n",
    "\n",
    "df['UNK_count'] = unk_count_list"
   ]
  },
  {
   "cell_type": "code",
   "execution_count": 7,
   "metadata": {},
   "outputs": [],
   "source": [
    "sns.countplot(x = \"UNK_count\", data = df)"
   ]
  },
  {
   "cell_type": "code",
   "execution_count": null,
   "metadata": {},
   "outputs": [],
   "source": []
  }
 ],
 "metadata": {
  "kernelspec": {
   "display_name": "Python 3",
   "language": "python",
   "name": "python3"
  },
  "language_info": {
   "codemirror_mode": {
    "name": "ipython",
    "version": 3
   },
   "file_extension": ".py",
   "mimetype": "text/x-python",
   "name": "python",
   "nbconvert_exporter": "python",
   "pygments_lexer": "ipython3",
   "version": "3.8.3"
  }
 },
 "nbformat": 4,
 "nbformat_minor": 5
}
