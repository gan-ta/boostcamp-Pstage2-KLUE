{
 "cells": [
  {
   "cell_type": "code",
   "execution_count": 1,
   "metadata": {},
   "outputs": [],
   "source": [
    "import pickle as pickle\n",
    "import pandas as pd\n",
    "import numpy as np\n",
    "import torch\n",
    "from tqdm.auto import tqdm\n",
    "import matplotlib.pyplot as plt\n",
    "\n",
    "from transformers import AutoTokenizer, AutoModelForSequenceClassification"
   ]
  },
  {
   "cell_type": "code",
   "execution_count": 2,
   "metadata": {},
   "outputs": [],
   "source": [
    "def preprocessing_dataset(dataset, label_type):\n",
    "    label = []\n",
    "    for i in dataset[8]:\n",
    "        if i == 'blind':\n",
    "            label.append(100)\n",
    "        else:\n",
    "            label.append(label_type[i])\n",
    "    out_dataset = pd.DataFrame({\n",
    "        'sentence':dataset[1],\n",
    "        'entity_01':dataset[2],\n",
    "        'entity_02':dataset[5],\n",
    "        'label':label,\n",
    "        'entity_01_start' : dataset[3],\n",
    "        'entity_01_end' : dataset[4],\n",
    "        'entity_02_start' : dataset[6],\n",
    "        'entity_02_end' : dataset[7]\n",
    "    })\n",
    "    return out_dataset"
   ]
  },
  {
   "cell_type": "code",
   "execution_count": 3,
   "metadata": {},
   "outputs": [],
   "source": [
    "def load_data(dataset_dir):\n",
    "  # load label_type, classes\n",
    "  with open('/opt/ml/input/data/label_type.pkl', 'rb') as f:\n",
    "    label_type = pickle.load(f)\n",
    "  # load dataset\n",
    "  dataset = pd.read_csv(dataset_dir, delimiter='\\t', header=None)\n",
    "  # preprecessing dataset\n",
    "  dataset = preprocessing_dataset(dataset, label_type)\n",
    "  \n",
    "  return dataset"
   ]
  },
  {
   "cell_type": "markdown",
   "metadata": {},
   "source": [
    "# kobert"
   ]
  },
  {
   "cell_type": "code",
   "execution_count": 4,
   "metadata": {},
   "outputs": [],
   "source": [
    "df = load_data(\"/opt/ml/input/data/train/train_renew.tsv\")"
   ]
  },
  {
   "cell_type": "code",
   "execution_count": 5,
   "metadata": {},
   "outputs": [],
   "source": [
    "from transformers import AutoTokenizer, AutoModelForSequenceClassification\n",
    "\n",
    "tokenizer = AutoTokenizer.from_pretrained(\"kykim/bert-kor-base\")\n",
    "sentence = df['sentence'].tolist()"
   ]
  },
  {
   "cell_type": "code",
   "execution_count": 6,
   "metadata": {},
   "outputs": [],
   "source": [
    "res = []\n",
    "\n",
    "for i in range(len(sentence)):\n",
    "    res.append(tokenizer(\n",
    "        sentence[i],\n",
    "        return_tensors=\"pt\",\n",
    "        add_special_tokens = True\n",
    "    ))\n",
    "\n",
    "encoded_sentences = []\n",
    "\n",
    "for i in range(len(res)):\n",
    "    s = [tokenizer.convert_ids_to_tokens(s) for s in res[i]['input_ids']]\n",
    "    encoded_sentences.append(s[0])"
   ]
  },
  {
   "cell_type": "code",
   "execution_count": 7,
   "metadata": {},
   "outputs": [],
   "source": [
    "encoded_sentences = []\n",
    "\n",
    "for i in range(len(res)):\n",
    "    s = [tokenizer.convert_ids_to_tokens(s) for s in res[i]['input_ids']]\n",
    "    encoded_sentences.append(s[0])"
   ]
  },
  {
   "cell_type": "code",
   "execution_count": 1,
   "metadata": {},
   "outputs": [],
   "source": [
    "encoded_sentences_len = []\n",
    "\n",
    "for encoded_sentence in encoded_sentences:\n",
    "    encoded_sentences_len.append(len(encoded_sentence))\n",
    "encoded_sentences_len = np.array(encoded_sentences_len)\n",
    "\n",
    "print(\"토큰  길이에 대한 정보\")\n",
    "print(\"count : \", len(encoded_sentences_len))\n",
    "print(\"mean of len : \", np.mean(encoded_sentences_len))\n",
    "print(\"std of len : \", np.std(encoded_sentences_len))\n",
    "print(\"max of len : \", np.max(encoded_sentences_len))\n",
    "print(\"min of len : \", np.min(encoded_sentences_len))\n",
    "print('제 1사분위 길이 : {}'.format(np.percentile(encoded_sentences_len, 25)))\n",
    "print('제 2사분위 길이 : {}'.format(np.percentile(encoded_sentences_len, 50)))\n",
    "print('제 3사분위 길이 : {}'.format(np.percentile(encoded_sentences_len, 75)))"
   ]
  },
  {
   "cell_type": "code",
   "execution_count": 2,
   "metadata": {},
   "outputs": [],
   "source": [
    "# 길이를 박스플롯으로\n",
    "plt.figure(figsize=(12,5))\n",
    "plt.boxplot([encoded_sentences_len],\n",
    "            labels = ['Word'],\n",
    "            showmeans=True)"
   ]
  },
  {
   "cell_type": "markdown",
   "metadata": {},
   "source": [
    "# roberta"
   ]
  },
  {
   "cell_type": "code",
   "execution_count": 7,
   "metadata": {},
   "outputs": [],
   "source": [
    "df = load_data(\"/opt/ml/input/data/train/train_renew.tsv\")"
   ]
  },
  {
   "cell_type": "code",
   "execution_count": 8,
   "metadata": {},
   "outputs": [],
   "source": [
    "tokenizer = AutoTokenizer.from_pretrained(\"xlm-roberta-large\")\n",
    "sentence = df['sentence'].tolist()"
   ]
  },
  {
   "cell_type": "code",
   "execution_count": 9,
   "metadata": {},
   "outputs": [],
   "source": [
    "res = []\n",
    "\n",
    "for i in range(len(sentence)):\n",
    "    res.append(tokenizer(\n",
    "        sentence[i],\n",
    "        return_tensors=\"pt\",\n",
    "        add_special_tokens = True\n",
    "    ))\n",
    "\n",
    "encoded_sentences = []\n",
    "\n",
    "for i in range(len(res)):\n",
    "    s = [tokenizer.convert_ids_to_tokens(s) for s in res[i]['input_ids']]\n",
    "    encoded_sentences.append(s[0])"
   ]
  },
  {
   "cell_type": "code",
   "execution_count": 3,
   "metadata": {},
   "outputs": [],
   "source": [
    "encoded_sentences_len = []\n",
    "\n",
    "for encoded_sentence in encoded_sentences:\n",
    "    encoded_sentences_len.append(len(encoded_sentence))\n",
    "encoded_sentences_len = np.array(encoded_sentences_len)\n",
    "\n",
    "print(\"토큰  길이에 대한 정보\")\n",
    "print(\"count : \", len(encoded_sentences_len))\n",
    "print(\"mean of len : \", np.mean(encoded_sentences_len))\n",
    "print(\"std of len : \", np.std(encoded_sentences_len))\n",
    "print(\"max of len : \", np.max(encoded_sentences_len))\n",
    "print(\"min of len : \", np.min(encoded_sentences_len))\n",
    "print('제 1사분위 길이 : {}'.format(np.percentile(encoded_sentences_len, 25)))\n",
    "print('제 2사분위 길이 : {}'.format(np.percentile(encoded_sentences_len, 50)))\n",
    "print('제 3사분위 길이 : {}'.format(np.percentile(encoded_sentences_len, 75)))"
   ]
  },
  {
   "cell_type": "code",
   "execution_count": 4,
   "metadata": {},
   "outputs": [],
   "source": [
    "# 길이를 박스플롯으로\n",
    "plt.figure(figsize=(12,5))\n",
    "plt.boxplot([encoded_sentences_len],\n",
    "            labels = ['Word'],\n",
    "            showmeans=True)"
   ]
  },
  {
   "cell_type": "code",
   "execution_count": null,
   "metadata": {},
   "outputs": [],
   "source": []
  }
 ],
 "metadata": {
  "kernelspec": {
   "display_name": "Python 3",
   "language": "python",
   "name": "python3"
  },
  "language_info": {
   "codemirror_mode": {
    "name": "ipython",
    "version": 3
   },
   "file_extension": ".py",
   "mimetype": "text/x-python",
   "name": "python",
   "nbconvert_exporter": "python",
   "pygments_lexer": "ipython3",
   "version": "3.8.3"
  }
 },
 "nbformat": 4,
 "nbformat_minor": 5
}
