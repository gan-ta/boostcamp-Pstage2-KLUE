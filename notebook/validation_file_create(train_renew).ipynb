{
 "cells": [
  {
   "cell_type": "code",
   "execution_count": 34,
   "metadata": {},
   "outputs": [],
   "source": [
    "# -*- coding: utf-8 -*-\n",
    "import sys\n",
    "import pickle\n",
    "import pandas as pd\n",
    "import numpy as np\n",
    "\n",
    "import torch\n",
    "\n",
    "from sklearn.model_selection import StratifiedKFold\n",
    "\n",
    "from collections import defaultdict"
   ]
  },
  {
   "cell_type": "code",
   "execution_count": 35,
   "metadata": {},
   "outputs": [],
   "source": [
    "with open(\"/opt/ml/input/data/label_type.pkl\", 'rb') as f:\n",
    "    label_type = pickle.load(f) "
   ]
  },
  {
   "cell_type": "code",
   "execution_count": 36,
   "metadata": {},
   "outputs": [],
   "source": [
    "sys.path.append('/opt/ml/backup')\n",
    "from load_data import *"
   ]
  },
  {
   "cell_type": "code",
   "execution_count": 37,
   "metadata": {},
   "outputs": [],
   "source": [
    "df = pd.read_csv(\"/opt/ml/input/data/train/train_renew.tsv\",delimiter='\\t',header=None)"
   ]
  },
  {
   "cell_type": "code",
   "execution_count": 39,
   "metadata": {},
   "outputs": [],
   "source": [
    "skf = StratifiedKFold(n_splits = 3)\n",
    "\n",
    "df_sentence = []\n",
    "df_labels = []\n",
    "for sentence in df[1]:\n",
    "    df_sentence.append(sentence)\n",
    "    \n",
    "for label in df[8]:\n",
    "    df_labels.append(label)\n",
    "    \n",
    "df_sentence = np.array(df_sentence)\n",
    "df_label = np.array(df_labels)"
   ]
  },
  {
   "cell_type": "code",
   "execution_count": 1,
   "metadata": {},
   "outputs": [],
   "source": [
    "df_sentence[0]"
   ]
  },
  {
   "cell_type": "code",
   "execution_count": 2,
   "metadata": {},
   "outputs": [],
   "source": [
    "df_label[0]"
   ]
  },
  {
   "cell_type": "code",
   "execution_count": 42,
   "metadata": {},
   "outputs": [],
   "source": [
    "# 인물:사망_국가는 모든 데이터셋에 포함시켜 주자(클래스 분포가 하나 임으로)\n",
    "class_least_index_list = []\n",
    "\n",
    "for i, v in enumerate(df_label):\n",
    "    if v == '인물:사망_국가' or v == \"인물:출생_도시\" or v == \"인물:사망_원인\" or v == \"인물:출생_국가\" or v == \"단체:자회사\" or v == \"인물:사망_도시\" or v == \"단체:구성원_수\" or v == \"인물:나이\":\n",
    "        class_least_index_list.append(i)"
   ]
  },
  {
   "cell_type": "code",
   "execution_count": 3,
   "metadata": {},
   "outputs": [],
   "source": [
    "print(len(df.iloc[class_least_index_list]))"
   ]
  },
  {
   "cell_type": "code",
   "execution_count": 4,
   "metadata": {},
   "outputs": [],
   "source": [
    "df_train_index = None\n",
    "df_test_index = None\n",
    "\n",
    "for i, (train_index, test_index) in enumerate(skf.split(df_sentence, df_label)):\n",
    "    df_train_index = train_index\n",
    "    df_test_index = test_index\n",
    "    \n",
    "    train_file_name = \"/opt/ml/input/data/train/k-fold2/train_split_\" + str(i) + \".tsv\"\n",
    "    test_file_name = \"/opt/ml/input/data/train/k-fold2/test_split\" + str(i) + \".tsv\"\n",
    "    \n",
    "#     df.iloc[df_train_index].to_csv(train_file_name, index =False, header = None, sep = \"\\t\")\n",
    "#     df.iloc[df_test_index].to_csv(test_file_name, index = False, header = None, sep = \"\\t\")\n",
    "\n",
    "    df_train_split = pd.concat([df.iloc[class_least_index_list],df.iloc[df_train_index]])\n",
    "    df_train_split.to_csv(train_file_name, index =False, header = None, sep = \"\\t\")\n",
    "    df.iloc[df_test_index].to_csv(test_file_name, index = False, header = None, sep = \"\\t\")\n",
    "    \n",
    "#     if class_one_index in df_test_index:\n",
    "#         df_train_split = pd.concat([df.iloc[class_least_index_list],df.iloc[df_train_index]])\n",
    "#         df_train_split.to_csv(train_file_name, index =False, header = None, sep = \"\\t\")\n",
    "#         df.iloc[df_test_index].to_csv(test_file_name, index = False, header = None, sep = \"\\t\")\n",
    "        \n",
    "#     else:\n",
    "#         df.iloc[df_train_index].to_csv(train_file_name, index =False, header = None, sep = \"\\t\")\n",
    "#         df.iloc[df_test_index].to_csv(test_file_name, index = False, header = None, sep = \"\\t\")\n",
    "    "
   ]
  },
  {
   "cell_type": "code",
   "execution_count": null,
   "metadata": {},
   "outputs": [],
   "source": []
  }
 ],
 "metadata": {
  "kernelspec": {
   "display_name": "Python 3",
   "language": "python",
   "name": "python3"
  },
  "language_info": {
   "codemirror_mode": {
    "name": "ipython",
    "version": 3
   },
   "file_extension": ".py",
   "mimetype": "text/x-python",
   "name": "python",
   "nbconvert_exporter": "python",
   "pygments_lexer": "ipython3",
   "version": "3.8.3"
  }
 },
 "nbformat": 4,
 "nbformat_minor": 5
}
