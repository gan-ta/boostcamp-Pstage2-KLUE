{
 "cells": [
  {
   "cell_type": "code",
   "execution_count": 1,
   "metadata": {},
   "outputs": [],
   "source": [
    "import sys\n",
    "sys.path.append('/opt/ml/backup')\n",
    "from load_data import load_data\n",
    "from googletrans import Translator\n",
    "\n",
    "from tqdm import tqdm\n",
    "from typing import Optional"
   ]
  },
  {
   "cell_type": "code",
   "execution_count": 2,
   "metadata": {},
   "outputs": [],
   "source": [
    "data = load_data(\"/opt/ml/input/data/train/train_renew.tsv\")\n",
    "translator = Translator() # 번역을 위한 객체"
   ]
  },
  {
   "cell_type": "code",
   "execution_count": 7,
   "metadata": {},
   "outputs": [],
   "source": [
    "def augment_sentence(record: dict, lang: str = 'en') -> Optional[dict]:\n",
    "    entity_code01 = \"ZQWXEC\" # entity가 사라지는 것을 방지\n",
    "    entity_code02 = \"QZWXEC\"\n",
    "    \n",
    "    sentence = record['sentence']\n",
    "    entity01 = record['entity_01']\n",
    "    entity02 = record['entity_02']\n",
    "\n",
    "    sentence = sentence.replace(entity01, entity_code01).replace(entity02, entity_code02)\n",
    "\n",
    "    try:\n",
    "        result_trans = translator.translate(sentence, src='ko', dest=lang)\n",
    "        result_trans_back = translator.translate(result_trans.text, src=lang, dest='ko')\n",
    "\n",
    "        aug_sentence = result_trans_back.text.replace(entity_code01, entity01).replace(entity_code02, entity02)\n",
    "    except:\n",
    "        return None\n",
    "    \n",
    "    if entity01 in aug_sentence and entity02 in aug_sentence:    \n",
    "        return {\n",
    "            \"sentence\": aug_sentence,\n",
    "            \"entity_01\": entity01,\n",
    "            \"entity_02\": entity02,\n",
    "            \"label\": record['label']\n",
    "        }\n",
    "    else:\n",
    "        return None"
   ]
  },
  {
   "cell_type": "code",
   "execution_count": 3,
   "metadata": {},
   "outputs": [],
   "source": [
    "target_langs = ['en']\n",
    "\n",
    "aug_sentences = []\n",
    "for i in tqdm(range(data.shape[0]), desc=\"Augmenting ...\"):\n",
    "    if data.iloc[i]['label'] != 0:\n",
    "        aug_sentences += [augment_sentence(data.iloc[i].to_dict(), lang=t_lang) for t_lang in target_langs]\n",
    "        \n",
    "aug_sentences = [record for record in aug_sentences if record is not None]"
   ]
  },
  {
   "cell_type": "code",
   "execution_count": 19,
   "metadata": {},
   "outputs": [],
   "source": [
    "aug_data = data.append(aug_sentences)\n",
    "\n",
    "aug_data.to_csv(\"/opt/ml/input/data/train/aug_train.tsv\", index=False,header = None, sep = \"\\t\")"
   ]
  },
  {
   "cell_type": "code",
   "execution_count": 4,
   "metadata": {},
   "outputs": [],
   "source": [
    "print(len(aug_data))"
   ]
  },
  {
   "cell_type": "code",
   "execution_count": null,
   "metadata": {},
   "outputs": [],
   "source": []
  }
 ],
 "metadata": {
  "kernelspec": {
   "display_name": "Python 3",
   "language": "python",
   "name": "python3"
  },
  "language_info": {
   "codemirror_mode": {
    "name": "ipython",
    "version": 3
   },
   "file_extension": ".py",
   "mimetype": "text/x-python",
   "name": "python",
   "nbconvert_exporter": "python",
   "pygments_lexer": "ipython3",
   "version": "3.8.3"
  }
 },
 "nbformat": 4,
 "nbformat_minor": 5
}
